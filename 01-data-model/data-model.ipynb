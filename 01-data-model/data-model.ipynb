{
 "cells": [
  {
   "cell_type": "markdown",
   "metadata": {},
   "source": [
    "# Chapter 1 — The Python Data Model\n",
    "\n",
    "**Sections with code snippets in this chapter:**\n",
    "\n",
    "* [A Pythonic Card Deck](#A-Pythonic-Card-Deck)\n",
    "* [Emulating Numeric Types](#Emulating-Numeric-Types)"
   ]
  },
  {
   "cell_type": "markdown",
   "metadata": {},
   "source": [
    "## A Pythonic Card Deck"
   ]
  },
  {
   "cell_type": "markdown",
   "metadata": {},
   "source": [
    "### 相关问题讲解\n",
    "\n",
    "1. **collections 是什么？**\n",
    "\n",
    "   collections 是 Python 标准库中的一个模块，提供了许多有用的集合类，比如 namedtuple、deque、Counter、OrderedDict 等。这里用到的 namedtuple 可以用来创建类似元组的对象，并且可以通过属性名访问元素。\n",
    "\n",
    "2. **[str(n) for n in range(2, 11)] + list('JQKA') 中 [] 是列表吗？ 列表可以相加？**\n",
    "\n",
    "   - `[]` 是列表的定义方式，`[str(n) for n in range(2, 11)]` 是列表推导式，生成字符串 '2' 到 '10' 的列表。\n",
    "   - `list('JQKA')` 会把字符串 'JQKA' 拆成 ['J', 'Q', 'K', 'A']。\n",
    "   - 两个列表可以用 `+` 号相加，结果是拼接成一个新列表。\n",
    "\n",
    "3. **ranks、suits 是 FrenchDeck 这个类的属性吗？**\n",
    "\n",
    "   是的，`ranks` 和 `suits` 都是 FrenchDeck 类的类属性（class attribute），它们属于类本身，而不是某个实例。"
   ]
  },
  {
   "cell_type": "markdown",
   "metadata": {},
   "source": [
    "#### 补充说明\n",
    "\n",
    "- `_cards` 不是类属性，而是 FrenchDeck 实例的属性（实例属性），它在 `__init__` 方法中通过 `self._cards = ...` 定义，每个实例都有自己的 `_cards`。\n",
    "- `ranks` 和 `suits` 是在类体内直接定义的，属于 FrenchDeck 类本身（类属性），所有实例共享。\n",
    "- 实例对象也可以通过 `self.ranks` 和 `self.suits` 访问类属性（如果实例没有同名属性时会自动查找类属性）。"
   ]
  },
  {
   "cell_type": "markdown",
   "metadata": {},
   "source": [
    "#### Example 1-1. A deck as a sequence of playing cards"
   ]
  },
  {
   "cell_type": "code",
   "execution_count": 3,
   "metadata": {},
   "outputs": [],
   "source": [
    "import collections\n",
    "\n",
    "Card = collections.namedtuple('Card', ['rank', 'suit'])\n",
    "\n",
    "class FrenchDeck:\n",
    "    ranks = [str(n) for n in range(2, 11)] + list('JQKA')\n",
    "    suits = '♠️ ♥️ ♣️ ♦️'.split()\n",
    "\n",
    "    def __init__(self):\n",
    "        self._cards = [Card(rank, suit) for suit in self.suits for rank in self.ranks]\n",
    "\n",
    "    def __len__(self):\n",
    "        return len(self._cards)\n",
    "\n",
    "    def __getitem__(self, position):\n",
    "        return self._cards[position]"
   ]
  },
  {
   "cell_type": "code",
   "execution_count": 5,
   "metadata": {},
   "outputs": [
    {
     "data": {
      "text/plain": [
       "Card(rank='7', suit='♣️')"
      ]
     },
     "execution_count": 5,
     "metadata": {},
     "output_type": "execute_result"
    }
   ],
   "source": [
    "beer_card = Card('7', '♣️')\n",
    "beer_card"
   ]
  },
  {
   "cell_type": "code",
   "execution_count": 8,
   "metadata": {},
   "outputs": [
    {
     "data": {
      "text/plain": [
       "52"
      ]
     },
     "execution_count": 8,
     "metadata": {},
     "output_type": "execute_result"
    }
   ],
   "source": [
    "deck = FrenchDeck()\n",
    "len(deck)"
   ]
  },
  {
   "cell_type": "code",
   "execution_count": 12,
   "metadata": {},
   "outputs": [
    {
     "data": {
      "text/plain": [
       "['2', '3', '4', '5', '6', '7', '8', '9', '10', 'J', 'Q', 'K', 'A']"
      ]
     },
     "execution_count": 12,
     "metadata": {},
     "output_type": "execute_result"
    }
   ],
   "source": [
    "deck.ranks"
   ]
  },
  {
   "cell_type": "code",
   "execution_count": 13,
   "metadata": {},
   "outputs": [
    {
     "data": {
      "text/plain": [
       "['♠️', '♥️', '♣️', '♦️']"
      ]
     },
     "execution_count": 13,
     "metadata": {},
     "output_type": "execute_result"
    }
   ],
   "source": [
    "deck.suits"
   ]
  },
  {
   "cell_type": "code",
   "execution_count": 9,
   "metadata": {},
   "outputs": [
    {
     "data": {
      "text/plain": [
       "Card(rank='2', suit='♠️')"
      ]
     },
     "execution_count": 9,
     "metadata": {},
     "output_type": "execute_result"
    }
   ],
   "source": [
    "deck[0]"
   ]
  },
  {
   "cell_type": "code",
   "execution_count": 10,
   "metadata": {},
   "outputs": [
    {
     "data": {
      "text/plain": [
       "Card(rank='A', suit='♦️')"
      ]
     },
     "execution_count": 10,
     "metadata": {},
     "output_type": "execute_result"
    }
   ],
   "source": [
    "deck[-1]"
   ]
  },
  {
   "cell_type": "code",
   "execution_count": 18,
   "metadata": {},
   "outputs": [
    {
     "data": {
      "text/plain": [
       "Card(rank='3', suit='♣️')"
      ]
     },
     "execution_count": 18,
     "metadata": {},
     "output_type": "execute_result"
    }
   ],
   "source": [
    "# NBVAL_IGNORE_OUTPUT\n",
    "from random import choice\n",
    "\n",
    "choice(deck)"
   ]
  },
  {
   "cell_type": "code",
   "execution_count": 19,
   "metadata": {},
   "outputs": [
    {
     "data": {
      "text/plain": [
       "[Card(rank='2', suit='♠️'),\n",
       " Card(rank='3', suit='♠️'),\n",
       " Card(rank='4', suit='♠️')]"
      ]
     },
     "execution_count": 19,
     "metadata": {},
     "output_type": "execute_result"
    }
   ],
   "source": [
    "deck[:3]"
   ]
  },
  {
   "cell_type": "code",
   "execution_count": 20,
   "metadata": {},
   "outputs": [
    {
     "data": {
      "text/plain": [
       "[Card(rank='A', suit='♠️'),\n",
       " Card(rank='A', suit='♥️'),\n",
       " Card(rank='A', suit='♣️'),\n",
       " Card(rank='A', suit='♦️')]"
      ]
     },
     "execution_count": 20,
     "metadata": {},
     "output_type": "execute_result"
    }
   ],
   "source": [
    "deck[12::13]"
   ]
  },
  {
   "cell_type": "code",
   "execution_count": 21,
   "metadata": {},
   "outputs": [
    {
     "name": "stdout",
     "output_type": "stream",
     "text": [
      "Card(rank='2', suit='♠️')\n",
      "Card(rank='3', suit='♠️')\n",
      "Card(rank='4', suit='♠️')\n",
      "Card(rank='5', suit='♠️')\n",
      "Card(rank='6', suit='♠️')\n",
      "Card(rank='7', suit='♠️')\n",
      "Card(rank='8', suit='♠️')\n",
      "Card(rank='9', suit='♠️')\n",
      "Card(rank='10', suit='♠️')\n",
      "Card(rank='J', suit='♠️')\n",
      "Card(rank='Q', suit='♠️')\n",
      "Card(rank='K', suit='♠️')\n",
      "Card(rank='A', suit='♠️')\n",
      "Card(rank='2', suit='♥️')\n",
      "Card(rank='3', suit='♥️')\n",
      "Card(rank='4', suit='♥️')\n",
      "Card(rank='5', suit='♥️')\n",
      "Card(rank='6', suit='♥️')\n",
      "Card(rank='7', suit='♥️')\n",
      "Card(rank='8', suit='♥️')\n",
      "Card(rank='9', suit='♥️')\n",
      "Card(rank='10', suit='♥️')\n",
      "Card(rank='J', suit='♥️')\n",
      "Card(rank='Q', suit='♥️')\n",
      "Card(rank='K', suit='♥️')\n",
      "Card(rank='A', suit='♥️')\n",
      "Card(rank='2', suit='♣️')\n",
      "Card(rank='3', suit='♣️')\n",
      "Card(rank='4', suit='♣️')\n",
      "Card(rank='5', suit='♣️')\n",
      "Card(rank='6', suit='♣️')\n",
      "Card(rank='7', suit='♣️')\n",
      "Card(rank='8', suit='♣️')\n",
      "Card(rank='9', suit='♣️')\n",
      "Card(rank='10', suit='♣️')\n",
      "Card(rank='J', suit='♣️')\n",
      "Card(rank='Q', suit='♣️')\n",
      "Card(rank='K', suit='♣️')\n",
      "Card(rank='A', suit='♣️')\n",
      "Card(rank='2', suit='♦️')\n",
      "Card(rank='3', suit='♦️')\n",
      "Card(rank='4', suit='♦️')\n",
      "Card(rank='5', suit='♦️')\n",
      "Card(rank='6', suit='♦️')\n",
      "Card(rank='7', suit='♦️')\n",
      "Card(rank='8', suit='♦️')\n",
      "Card(rank='9', suit='♦️')\n",
      "Card(rank='10', suit='♦️')\n",
      "Card(rank='J', suit='♦️')\n",
      "Card(rank='Q', suit='♦️')\n",
      "Card(rank='K', suit='♦️')\n",
      "Card(rank='A', suit='♦️')\n"
     ]
    }
   ],
   "source": [
    "for card in deck:\n",
    "    print(card)"
   ]
  },
  {
   "cell_type": "code",
   "execution_count": 22,
   "metadata": {},
   "outputs": [
    {
     "name": "stdout",
     "output_type": "stream",
     "text": [
      "Card(rank='A', suit='♦️')\n",
      "Card(rank='K', suit='♦️')\n",
      "Card(rank='Q', suit='♦️')\n",
      "Card(rank='J', suit='♦️')\n",
      "Card(rank='10', suit='♦️')\n",
      "Card(rank='9', suit='♦️')\n",
      "Card(rank='8', suit='♦️')\n",
      "Card(rank='7', suit='♦️')\n",
      "Card(rank='6', suit='♦️')\n",
      "Card(rank='5', suit='♦️')\n",
      "Card(rank='4', suit='♦️')\n",
      "Card(rank='3', suit='♦️')\n",
      "Card(rank='2', suit='♦️')\n",
      "Card(rank='A', suit='♣️')\n",
      "Card(rank='K', suit='♣️')\n",
      "Card(rank='Q', suit='♣️')\n",
      "Card(rank='J', suit='♣️')\n",
      "Card(rank='10', suit='♣️')\n",
      "Card(rank='9', suit='♣️')\n",
      "Card(rank='8', suit='♣️')\n",
      "Card(rank='7', suit='♣️')\n",
      "Card(rank='6', suit='♣️')\n",
      "Card(rank='5', suit='♣️')\n",
      "Card(rank='4', suit='♣️')\n",
      "Card(rank='3', suit='♣️')\n",
      "Card(rank='2', suit='♣️')\n",
      "Card(rank='A', suit='♥️')\n",
      "Card(rank='K', suit='♥️')\n",
      "Card(rank='Q', suit='♥️')\n",
      "Card(rank='J', suit='♥️')\n",
      "Card(rank='10', suit='♥️')\n",
      "Card(rank='9', suit='♥️')\n",
      "Card(rank='8', suit='♥️')\n",
      "Card(rank='7', suit='♥️')\n",
      "Card(rank='6', suit='♥️')\n",
      "Card(rank='5', suit='♥️')\n",
      "Card(rank='4', suit='♥️')\n",
      "Card(rank='3', suit='♥️')\n",
      "Card(rank='2', suit='♥️')\n",
      "Card(rank='A', suit='♠️')\n",
      "Card(rank='K', suit='♠️')\n",
      "Card(rank='Q', suit='♠️')\n",
      "Card(rank='J', suit='♠️')\n",
      "Card(rank='10', suit='♠️')\n",
      "Card(rank='9', suit='♠️')\n",
      "Card(rank='8', suit='♠️')\n",
      "Card(rank='7', suit='♠️')\n",
      "Card(rank='6', suit='♠️')\n",
      "Card(rank='5', suit='♠️')\n",
      "Card(rank='4', suit='♠️')\n",
      "Card(rank='3', suit='♠️')\n",
      "Card(rank='2', suit='♠️')\n"
     ]
    }
   ],
   "source": [
    "for card in reversed(deck):\n",
    "    print(card)"
   ]
  },
  {
   "cell_type": "code",
   "execution_count": 24,
   "metadata": {},
   "outputs": [
    {
     "data": {
      "text/plain": [
       "True"
      ]
     },
     "execution_count": 24,
     "metadata": {},
     "output_type": "execute_result"
    }
   ],
   "source": [
    "Card('Q', '♠️') in deck"
   ]
  },
  {
   "cell_type": "code",
   "execution_count": 25,
   "metadata": {},
   "outputs": [
    {
     "data": {
      "text/plain": [
       "False"
      ]
     },
     "execution_count": 25,
     "metadata": {},
     "output_type": "execute_result"
    }
   ],
   "source": [
    "Card('7', 'beasts') in deck"
   ]
  },
  {
   "cell_type": "code",
   "execution_count": 32,
   "metadata": {},
   "outputs": [
    {
     "name": "stdout",
     "output_type": "stream",
     "text": [
      "Card(rank='2', suit='♦️')\n",
      "Card(rank='2', suit='♣️')\n",
      "Card(rank='2', suit='♥️')\n",
      "Card(rank='2', suit='♠️')\n",
      "Card(rank='3', suit='♦️')\n",
      "Card(rank='3', suit='♣️')\n",
      "Card(rank='3', suit='♥️')\n",
      "Card(rank='3', suit='♠️')\n",
      "Card(rank='4', suit='♦️')\n",
      "Card(rank='4', suit='♣️')\n",
      "Card(rank='4', suit='♥️')\n",
      "Card(rank='4', suit='♠️')\n",
      "Card(rank='5', suit='♦️')\n",
      "Card(rank='5', suit='♣️')\n",
      "Card(rank='5', suit='♥️')\n",
      "Card(rank='5', suit='♠️')\n",
      "Card(rank='6', suit='♦️')\n",
      "Card(rank='6', suit='♣️')\n",
      "Card(rank='6', suit='♥️')\n",
      "Card(rank='6', suit='♠️')\n",
      "Card(rank='7', suit='♦️')\n",
      "Card(rank='7', suit='♣️')\n",
      "Card(rank='7', suit='♥️')\n",
      "Card(rank='7', suit='♠️')\n",
      "Card(rank='8', suit='♦️')\n",
      "Card(rank='8', suit='♣️')\n",
      "Card(rank='8', suit='♥️')\n",
      "Card(rank='8', suit='♠️')\n",
      "Card(rank='9', suit='♦️')\n",
      "Card(rank='9', suit='♣️')\n",
      "Card(rank='9', suit='♥️')\n",
      "Card(rank='9', suit='♠️')\n",
      "Card(rank='10', suit='♦️')\n",
      "Card(rank='10', suit='♣️')\n",
      "Card(rank='10', suit='♥️')\n",
      "Card(rank='10', suit='♠️')\n",
      "Card(rank='J', suit='♦️')\n",
      "Card(rank='J', suit='♣️')\n",
      "Card(rank='J', suit='♥️')\n",
      "Card(rank='J', suit='♠️')\n",
      "Card(rank='Q', suit='♦️')\n",
      "Card(rank='Q', suit='♣️')\n",
      "Card(rank='Q', suit='♥️')\n",
      "Card(rank='Q', suit='♠️')\n",
      "Card(rank='K', suit='♦️')\n",
      "Card(rank='K', suit='♣️')\n",
      "Card(rank='K', suit='♥️')\n",
      "Card(rank='K', suit='♠️')\n",
      "Card(rank='A', suit='♦️')\n",
      "Card(rank='A', suit='♣️')\n",
      "Card(rank='A', suit='♥️')\n",
      "Card(rank='A', suit='♠️')\n"
     ]
    }
   ],
   "source": [
    "# suit_values = dict(spades=3, hearts=2, diamonds=1, clubs=0)\n",
    "suit_values = {'♠️': 3, '♥️': 2, '♣️': 1, '♦️': 0}\n",
    "\n",
    "def spades_high(card):\n",
    "    rank_value = FrenchDeck.ranks.index(card.rank)\n",
    "    return rank_value * len(suit_values) + suit_values[card.suit]\n",
    "\n",
    "for card in sorted(deck, key=spades_high):\n",
    "    print(card)"
   ]
  },
  {
   "cell_type": "markdown",
   "metadata": {},
   "source": [
    "## Emulating Numeric Types"
   ]
  },
  {
   "cell_type": "markdown",
   "metadata": {},
   "source": [
    "#### Example 1-2. A simple two-dimensional vector class"
   ]
  },
  {
   "cell_type": "markdown",
   "metadata": {},
   "source": [
    "### 相关讲解\n",
    "\n",
    "- `!r` 是 Python 格式化字符串（f-string）中的格式说明符，表示用 `repr()` 的方式显示变量的值。例如：`f\"{value!r}\"` 等价于 `f\"{repr(value)}\"`。\n",
    "- `__repr__` 方法用于定义对象的“官方”字符串表示，通常用于调试和开发，要求尽量准确、清晰地反映对象内容。\n",
    "- f-string 默认用 `str()` 格式化变量，只有加上 `!r` 才会用 `repr()` 格式化。\n",
    "- 例如：\n",
    "  - `f\"{value}\"` 等价于 `str(value)`\n",
    "  - `f\"{value!r}\"` 等价于 `repr(value)`"
   ]
  },
  {
   "cell_type": "code",
   "execution_count": null,
   "metadata": {},
   "outputs": [],
   "source": [
    "import math\n",
    "\n",
    "class Vector:\n",
    "\n",
    "    def __init__(self, x=0, y=0):\n",
    "        self.x = x\n",
    "        self.y = y\n",
    "\n",
    "    def __repr__(self):\n",
    "        return f'Vector({self.x!r}, {self.y!r})'\n",
    "\n",
    "    def __abs__(self):\n",
    "        return math.hypot(self.x, self.y)\n",
    "\n",
    "    def __bool__(self):\n",
    "        return bool(abs(self))\n",
    "\n",
    "    def __add__(self, other):\n",
    "        x = self.x + other.x\n",
    "        y = self.y + other.y\n",
    "        return Vector(x, y)\n",
    "\n",
    "    def __mul__(self, scalar):\n",
    "        return Vector(self.x * scalar, self.y * scalar)"
   ]
  },
  {
   "cell_type": "code",
   "execution_count": 45,
   "metadata": {},
   "outputs": [
    {
     "data": {
      "text/plain": [
       "Vector(4, 5)"
      ]
     },
     "execution_count": 45,
     "metadata": {},
     "output_type": "execute_result"
    }
   ],
   "source": [
    "v1 = Vector(2, 4)\n",
    "v2 = Vector(2, 1)\n",
    "v1 + v2"
   ]
  },
  {
   "cell_type": "code",
   "execution_count": 36,
   "metadata": {},
   "outputs": [
    {
     "data": {
      "text/plain": [
       "5.0"
      ]
     },
     "execution_count": 36,
     "metadata": {},
     "output_type": "execute_result"
    }
   ],
   "source": [
    "v = Vector(3, 4)\n",
    "abs(v)"
   ]
  },
  {
   "cell_type": "code",
   "execution_count": 37,
   "metadata": {},
   "outputs": [
    {
     "data": {
      "text/plain": [
       "Vector(9, 12)"
      ]
     },
     "execution_count": 37,
     "metadata": {},
     "output_type": "execute_result"
    }
   ],
   "source": [
    "v * 3"
   ]
  },
  {
   "cell_type": "code",
   "execution_count": 38,
   "metadata": {},
   "outputs": [
    {
     "data": {
      "text/plain": [
       "15.0"
      ]
     },
     "execution_count": 38,
     "metadata": {},
     "output_type": "execute_result"
    }
   ],
   "source": [
    "abs(v * 3)"
   ]
  },
  {
   "cell_type": "code",
   "execution_count": 39,
   "metadata": {},
   "outputs": [
    {
     "data": {
      "text/plain": [
       "True"
      ]
     },
     "execution_count": 39,
     "metadata": {},
     "output_type": "execute_result"
    }
   ],
   "source": [
    "bool(v)"
   ]
  }
 ],
 "metadata": {
  "kernelspec": {
   "display_name": ".venv",
   "language": "python",
   "name": "python3"
  },
  "language_info": {
   "codemirror_mode": {
    "name": "ipython",
    "version": 3
   },
   "file_extension": ".py",
   "mimetype": "text/x-python",
   "name": "python",
   "nbconvert_exporter": "python",
   "pygments_lexer": "ipython3",
   "version": "3.12.3"
  }
 },
 "nbformat": 4,
 "nbformat_minor": 2
}
